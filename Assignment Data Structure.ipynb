{
 "cells": [
  {
   "cell_type": "markdown",
   "id": "0f874c4c-be9e-4f52-8ddd-a5797597f42b",
   "metadata": {},
   "source": [
    "THEORITICAL QUESTION/ANSWERS"
   ]
  },
  {
   "cell_type": "code",
   "execution_count": 2,
   "id": "ef801ddd-08b3-4500-870e-e828f7c9e17d",
   "metadata": {},
   "outputs": [],
   "source": [
    "#1) What are data structures, and why are they important?\n",
    "#Ans.) *Data structures are specialized formats for organizing, storing, and accessing collections of data. They provide efficient ways to manage information based on its characteristics and intended use.\n",
    "      # *importance - a) Simplify data manipulation, impacts the efficiency and performance of program \n",
    "      #               b) Optimize searching and sorting operations, Conserve memory usage."
   ]
  },
  {
   "cell_type": "code",
   "execution_count": null,
   "id": "08b57aa5-4897-4469-906b-1e327c1d74d1",
   "metadata": {},
   "outputs": [],
   "source": [
    "#2)  What are the main differences between lists and tuples in Python?\n",
    "#Ans.) Lists are mutable while tuples are immutable.\n",
    " #    * Lists use square bracket [], while tuples syntax is parenthesis ().\n",
    " #    * tuples are memory efficient than lists. "
   ]
  },
  {
   "cell_type": "code",
   "execution_count": 3,
   "id": "53dc238f-507e-46e5-bf2d-a1882ab9c66e",
   "metadata": {},
   "outputs": [],
   "source": [
    "#3) Explain the difference between mutable and immutable data types with examples.\n",
    "#Ans.) *In Python, objects can be either changeable (modifiable) or unchangeable (unchangeable). \n",
    "#      *Mutable objects, such as lists and dictionaries, can be modified after creation, while immutable objects, such as tuples and strings, cannot.\n",
    "#      *Mutability affects how objects are stored and manipulated in memory, impacting performance, memory usage, and concurrency in Python programs"
   ]
  },
  {
   "cell_type": "code",
   "execution_count": 4,
   "id": "2a27b96b-6cd3-4644-be4f-85c873126dee",
   "metadata": {},
   "outputs": [],
   "source": [
    "#example\n",
    "list = [1,2, \"data\"]\n",
    "list[0] = \"structure\""
   ]
  },
  {
   "cell_type": "code",
   "execution_count": 8,
   "id": "f68b7d5b-7b5f-4fa6-98aa-836a6569e62f",
   "metadata": {},
   "outputs": [
    {
     "data": {
      "text/plain": [
       "['structure', 2, 'data']"
      ]
     },
     "execution_count": 8,
     "metadata": {},
     "output_type": "execute_result"
    }
   ],
   "source": [
    "list #as list are mutable the element in list is changed by the code."
   ]
  },
  {
   "cell_type": "code",
   "execution_count": 10,
   "id": "bd178b1e-3074-4d2e-b88f-3d4c9c5a2ba0",
   "metadata": {},
   "outputs": [
    {
     "ename": "TypeError",
     "evalue": "'tuple' object does not support item assignment",
     "output_type": "error",
     "traceback": [
      "\u001b[1;31m---------------------------------------------------------------------------\u001b[0m",
      "\u001b[1;31mTypeError\u001b[0m                                 Traceback (most recent call last)",
      "Cell \u001b[1;32mIn[10], line 2\u001b[0m\n\u001b[0;32m      1\u001b[0m \u001b[38;5;28mtuple\u001b[39m \u001b[38;5;241m=\u001b[39m (\u001b[38;5;241m1\u001b[39m , \u001b[38;5;241m2\u001b[39m , \u001b[38;5;124m\"\u001b[39m\u001b[38;5;124mdata\u001b[39m\u001b[38;5;124m\"\u001b[39m)\n\u001b[1;32m----> 2\u001b[0m \u001b[38;5;28mtuple\u001b[39m[\u001b[38;5;241m0\u001b[39m] \u001b[38;5;241m=\u001b[39m \u001b[38;5;124m\"\u001b[39m\u001b[38;5;124mstr\u001b[39m\u001b[38;5;124m\"\u001b[39m\n",
      "\u001b[1;31mTypeError\u001b[0m: 'tuple' object does not support item assignment"
     ]
    }
   ],
   "source": [
    "tuple = (1 , 2 , \"data\")\n",
    "tuple[0] = \"str\"\n",
    "#this will throw an error as tuple is immutable and elements in it cannot be changed."
   ]
  },
  {
   "cell_type": "code",
   "execution_count": 5,
   "id": "507a93cb-6b22-4783-8514-ddb221e0bad8",
   "metadata": {},
   "outputs": [],
   "source": [
    "#4) Describe how dictionaries store data?\n",
    "#Ans.) *Dictionaries are used to store data values in key:value pairs. A dictionary is a collection which is ordered, changeable and do not allow duplicates\n",
    "#     *Description: Unordered collections: Elements are not stored in a specific order.\n",
    "#                   Unique key-value pairs: Each key acts as a unique identifier for retrieving an associated value.\n",
    "#                   Flexible data: Keys and values can be of various data types (strings, numbers, lists, and even other dictionaries).\n"
   ]
  },
  {
   "cell_type": "code",
   "execution_count": 7,
   "id": "8fa8068a-619b-4a49-bf2b-eab6e228f6c9",
   "metadata": {},
   "outputs": [],
   "source": [
    "#5) Why might you use a set instead of a list in Python?\n",
    "#Ans.)* We use set instead of a list because a set doesnt allow duplicates entry in it but list does which may help to manipulate data.\n",
    "#      * also we can check membership in set easily. "
   ]
  },
  {
   "cell_type": "code",
   "execution_count": 9,
   "id": "3aaf461f-e974-4047-acf7-97ceb18021d6",
   "metadata": {},
   "outputs": [],
   "source": [
    "#What is a string in Python, and how is it different from a list?\n",
    "#Ans.) string is a sequence of character used to represent and manipulate textual data\n",
    "#      characters are represented using numerical values and each character is assigned to a unique value.\n",
    "#     *lists can store any data type in any manner but strings doesnt allow any data type to store, also elements in lists are mutable but strings aren't ."
   ]
  },
  {
   "cell_type": "code",
   "execution_count": 11,
   "id": "31b8b058-5ffa-4134-927d-3e5137465eec",
   "metadata": {},
   "outputs": [],
   "source": [
    "#How do tuples ensure data integrity in Python?\n",
    "#Ans.) Tuples are ordered collection and are immutable, hence, the data in tuples cannot be changed/edited. Therefore it ensures data integrity."
   ]
  },
  {
   "cell_type": "code",
   "execution_count": 13,
   "id": "8551c217-2aff-49f9-962c-b1608be52a25",
   "metadata": {},
   "outputs": [],
   "source": [
    "#What is a hash table, and how does it relate to dictionaries in Python?\n",
    "#Ans.) * A hash table is a data structure that implements an associative array, which maps keys to values. It works by using a hash function to compute an index, also called a hash code,\n",
    "#        into an array of buckets or slots, from which the desired value can be found.\n",
    "#      * Dictionaries are implemented using hash tables, this means that the underlying mechanism for storing and retrieving key-value pairs in a dictionary is a hash table."
   ]
  },
  {
   "cell_type": "code",
   "execution_count": 15,
   "id": "2f78c1d5-dda5-43f8-b6c0-a0e18aed74a9",
   "metadata": {},
   "outputs": [],
   "source": [
    "# Can lists contain different data types in Python?\n",
    "#Ans.) Yes, lists can contain different data types in python as the basic task of list is to contain any data form as elements."
   ]
  },
  {
   "cell_type": "code",
   "execution_count": 19,
   "id": "e537be4e-f994-436a-a445-b5cbf788fdc2",
   "metadata": {},
   "outputs": [],
   "source": [
    "#What advantages do dictionaries offer over lists for certain tasks?\n",
    "#Ans.) * Fast Lookups: Dictionaries use a hash table implementation, which allows for very fast lookups of values based on their keys. This is significantly faster than searching through a list, especially for large datasets.\n",
    "#     *. Key-Value Pairs: Dictionaries store data in key-value pairs, making them ideal for representing relationships between data. Lists, on the other hand, store data in a sequential order, which may not be suitable for representing such relationships."
   ]
  },
  {
   "cell_type": "code",
   "execution_count": 41,
   "id": "b45d5ec6-7cce-4538-8663-8fcd6fd46bfa",
   "metadata": {},
   "outputs": [],
   "source": [
    "#Describe a scenario where using a tuple would be preferable over a list?\n",
    "#Ans.) Tuples are preferred when you need an immutable collection of tuple elements that should not change during program execution, such as storing configuration settings or database records. \n",
    "#      They also offer performance benefits due to their fixed size and memory efficiency"
   ]
  },
  {
   "cell_type": "code",
   "execution_count": 23,
   "id": "b33f0fe9-b4a0-4b19-8f8e-e52829e0e6e1",
   "metadata": {},
   "outputs": [],
   "source": [
    "#How do sets handle duplicate values in Python?\n",
    "#Ans.) Sets in Python are designed to store unique elements. This means they automatically handle duplicate values by simply ignoring them."
   ]
  },
  {
   "cell_type": "code",
   "execution_count": 25,
   "id": "5395b8b3-2c0e-4cec-ba28-5b2c787e9a7f",
   "metadata": {},
   "outputs": [],
   "source": [
    "#How does the “in” keyword work differently for lists and dictionaries?\n",
    "#Ans.) *The in operator tests for value equality in lists. It returns True if the values are equal, even if their types are different.\n",
    "#      *The in operator for dictionaries (dict) checks for the presence of a key."
   ]
  },
  {
   "cell_type": "code",
   "execution_count": 27,
   "id": "364a0b74-7b2e-485a-ad52-55885397bcc3",
   "metadata": {},
   "outputs": [],
   "source": [
    "#Can you modify the elements of a tuple? Explain why or why not?\n",
    "#Ans.)No, we cannot modify the elements in tuple, because an tuple does not support item assignment and is immutable in nature."
   ]
  },
  {
   "cell_type": "code",
   "execution_count": 29,
   "id": "37e50acd-3ee2-4b83-b4fc-d6b6693895a6",
   "metadata": {},
   "outputs": [],
   "source": [
    "#What is a nested dictionary, and give an example of its use case?\n",
    "#Ans.) * A nested dictionary is a dictionary that contains other dictionaries, and is a useful way to represent data with multiple layers of organization.\n",
    "#      * Example - Employee records: Organize employees by department, with each employee's details in a nested dictionary.\n",
    "#                  Inventory systems: Track product categories, subcategories, and individual product details in nested form."
   ]
  },
  {
   "cell_type": "code",
   "execution_count": 31,
   "id": "b0f65297-7050-47b0-bccc-09b826591a05",
   "metadata": {},
   "outputs": [],
   "source": [
    "#Describe the time complexity of accessing elements in a dictionay.\n",
    "#Ans.) The time complexity of accessing an element in a Python dictionary is O(1) on average, meaning it takes a constant amount of time to search for a value in a dictionary.\n",
    "#      This is because Python dictionaries use a hash table implementation that allows for fast key-value pair retrieval"
   ]
  },
  {
   "cell_type": "code",
   "execution_count": 33,
   "id": "950c7716-7ac2-43ba-aa20-901cd7893acc",
   "metadata": {},
   "outputs": [],
   "source": [
    "#In what situations are lists preferred over dictionaries?\n",
    "#Ans.) If we need an ordered collection of data, we prefer lists over dictionaries, because dictionaries are unordered."
   ]
  },
  {
   "cell_type": "code",
   "execution_count": 35,
   "id": "6a3541b2-1cc2-455d-a3e0-faa0774afca0",
   "metadata": {},
   "outputs": [],
   "source": [
    "#Why are dictionaries considered unordered, and how does that affect data retrieval?\n",
    "#Ans.) * Dictionary is termed as an unordered collection of objects because it doesn't remember the order or positioning of its elements but just its mapping of its keys and values. \n",
    "#       For example, if a = { 1 : 'a', 2 : 'b' }\n",
    "#                       b = { 2 : 'b', 1 : 'a' }\n",
    "#                       a == b is true\n",
    "#      * They did not preserve insertion order at all.\n",
    "#      * This meant that when you accessed or printed the items, the order could vary, as dictionaries were optimized for fast lookups rather than maintaining order."
   ]
  },
  {
   "cell_type": "code",
   "execution_count": 37,
   "id": "92e92b77-3f6a-4f27-b981-5be66938cb92",
   "metadata": {},
   "outputs": [],
   "source": [
    "#Explain the difference between a list and a dictionary in terms of data retrieval.\n",
    "#Ans.) * In lists, data or values are accessed by indexing (ex. 0,1,3.....) for data retrieval.\n",
    "#      * while, in dictionary, data is accessed by using keys. "
   ]
  },
  {
   "cell_type": "markdown",
   "id": "cff4ed3f-89ed-4eaa-9611-7b06f8dcdd19",
   "metadata": {},
   "source": [
    "PRACTICAL QUESTION/ANSWERS"
   ]
  },
  {
   "cell_type": "code",
   "execution_count": 91,
   "id": "5cd9bb1e-fa1b-4be0-a382-94e1abddd754",
   "metadata": {},
   "outputs": [
    {
     "name": "stdout",
     "output_type": "stream",
     "text": [
      "sumit gupta\n"
     ]
    }
   ],
   "source": [
    "#Write a code to create a string with your name and print it.\n",
    "name = \"sumit gupta\"\n",
    "print(name)"
   ]
  },
  {
   "cell_type": "code",
   "execution_count": 93,
   "id": "0180b315-b7f5-4c59-aa85-5836c2cd7eba",
   "metadata": {},
   "outputs": [
    {
     "data": {
      "text/plain": [
       "11"
      ]
     },
     "execution_count": 93,
     "metadata": {},
     "output_type": "execute_result"
    }
   ],
   "source": [
    "#Write a code to find the length of the string \"Hello World\".\n",
    "a = \"Hello World\"\n",
    "len(a)"
   ]
  },
  {
   "cell_type": "code",
   "execution_count": 1,
   "id": "359d3ddc-bdf4-4c8c-81ab-e322e1d8f662",
   "metadata": {},
   "outputs": [
    {
     "data": {
      "text/plain": [
       "'d day'"
      ]
     },
     "execution_count": 1,
     "metadata": {},
     "output_type": "execute_result"
    }
   ],
   "source": [
    "# Write a code to slice the first 3 characters from the string \"Python Programming\".\n",
    "b = \"good day\"\n",
    "b[3:]"
   ]
  },
  {
   "cell_type": "code",
   "execution_count": 3,
   "id": "312f5dd3-7622-4091-a224-9d7f4a63b9f6",
   "metadata": {},
   "outputs": [
    {
     "data": {
      "text/plain": [
       "'HELLO'"
      ]
     },
     "execution_count": 3,
     "metadata": {},
     "output_type": "execute_result"
    }
   ],
   "source": [
    "# Write a code to convert the string \"hello\" to uppercase.\n",
    "text = \"hello\"\n",
    "text.upper()"
   ]
  },
  {
   "cell_type": "code",
   "execution_count": 5,
   "id": "e145a696-30da-420b-a299-4eca3102c3ab",
   "metadata": {},
   "outputs": [
    {
     "data": {
      "text/plain": [
       "'I like orange'"
      ]
     },
     "execution_count": 5,
     "metadata": {},
     "output_type": "execute_result"
    }
   ],
   "source": [
    "#Write a code to replace the word \"apple\" with \"orange\" in the string \"I like apple\".\n",
    "c = \"I like apple\"\n",
    "c.replace(\"apple\", \"orange\")"
   ]
  },
  {
   "cell_type": "code",
   "execution_count": 17,
   "id": "f708af7f-ad07-409a-a534-3a296e17ead3",
   "metadata": {},
   "outputs": [
    {
     "name": "stdout",
     "output_type": "stream",
     "text": [
      "[1, 2, 3, 4, 5]\n"
     ]
    }
   ],
   "source": [
    "#Write a code to create a list with numbers 1 to 5 and print it\n",
    "list = [1 , 2 , 3 , 4 , 5]\n",
    "print(list)"
   ]
  },
  {
   "cell_type": "code",
   "execution_count": 21,
   "id": "1d63ff0a-8048-4c79-b639-f97c316b33a9",
   "metadata": {},
   "outputs": [
    {
     "data": {
      "text/plain": [
       "[1, 2, 3, 4, 10]"
      ]
     },
     "execution_count": 21,
     "metadata": {},
     "output_type": "execute_result"
    }
   ],
   "source": [
    "#Write a code to append the number 10 to the list [1, 2, 3, 4].\n",
    "lis = [1, 2, 3, 4]\n",
    "lis.append(10)\n",
    "lis"
   ]
  },
  {
   "cell_type": "code",
   "execution_count": 39,
   "id": "5611f552-2cb3-4103-9b21-b27380d53855",
   "metadata": {},
   "outputs": [
    {
     "data": {
      "text/plain": [
       "[1, 2, 4, 5]"
      ]
     },
     "execution_count": 39,
     "metadata": {},
     "output_type": "execute_result"
    }
   ],
   "source": [
    "# Write a code to remove the number 3 from the list [1, 2, 3, 4, 5]\n",
    "list = [1, 2, 3, 4, 5]\n",
    "list.remove( 3)\n",
    "list\n"
   ]
  },
  {
   "cell_type": "code",
   "execution_count": 41,
   "id": "c9d9f531-da7f-4811-985b-3737b04e53ac",
   "metadata": {},
   "outputs": [
    {
     "data": {
      "text/plain": [
       "'b'"
      ]
     },
     "execution_count": 41,
     "metadata": {},
     "output_type": "execute_result"
    }
   ],
   "source": [
    "#Write a code to access the second element in the list ['a', 'b', 'c', 'd']\n",
    "r = ['a', 'b', 'c', 'd']\n",
    "r[1]\n"
   ]
  },
  {
   "cell_type": "code",
   "execution_count": 53,
   "id": "893dba21-ac87-4345-add6-30a7527ebbfb",
   "metadata": {},
   "outputs": [
    {
     "data": {
      "text/plain": [
       "[50, 40, 30, 20, 10]"
      ]
     },
     "execution_count": 53,
     "metadata": {},
     "output_type": "execute_result"
    }
   ],
   "source": [
    "#Write a code to reverse the list [10, 20, 30, 40, 50].\n",
    "e = [10, 20, 30, 40, 50]\n",
    "e[::-1]"
   ]
  },
  {
   "cell_type": "code",
   "execution_count": 12,
   "id": "12b1980b-84bd-44c5-8c91-fc516faeb1fb",
   "metadata": {},
   "outputs": [
    {
     "name": "stdout",
     "output_type": "stream",
     "text": [
      "(10, 20, 30)\n"
     ]
    }
   ],
   "source": [
    "#Write a code to create a tuple with the elements 10, 20, 30 and print it.\n",
    "tuple = (10, 20, 30)\n",
    "print(tuple)\n"
   ]
  },
  {
   "cell_type": "code",
   "execution_count": 14,
   "id": "50a8d176-71de-4851-b344-eb8cfe807221",
   "metadata": {},
   "outputs": [
    {
     "data": {
      "text/plain": [
       "'apple'"
      ]
     },
     "execution_count": 14,
     "metadata": {},
     "output_type": "execute_result"
    }
   ],
   "source": [
    "#Write a code to access the first element of the tuple ('apple', 'banana', 'cherry').\n",
    "a = (\"apple\", \"banana\", \"cherry\")\n",
    "a[0]"
   ]
  },
  {
   "cell_type": "code",
   "execution_count": 16,
   "id": "6aa4a9db-f8f2-4c16-9dd0-208ab0e256f1",
   "metadata": {},
   "outputs": [
    {
     "data": {
      "text/plain": [
       "3"
      ]
     },
     "execution_count": 16,
     "metadata": {},
     "output_type": "execute_result"
    }
   ],
   "source": [
    "#Write a code to count how many times the number 2 appears in the tuple (1, 2, 3, 2, 4, 2).\n",
    "b = (1, 2, 3, 2, 4, 2)\n",
    "b.count(2)"
   ]
  },
  {
   "cell_type": "code",
   "execution_count": 18,
   "id": "3d1ec4b4-c23c-49b3-93a4-795f012f9a10",
   "metadata": {},
   "outputs": [
    {
     "data": {
      "text/plain": [
       "1"
      ]
     },
     "execution_count": 18,
     "metadata": {},
     "output_type": "execute_result"
    }
   ],
   "source": [
    "# Write a code to find the index of the element \"cat\" in the tuple ('dog', 'cat', 'rabbit').\n",
    "tuple = (\"dog\", \"cat\", \"rabbit\")\n",
    "tuple.index('cat')"
   ]
  },
  {
   "cell_type": "code",
   "execution_count": 38,
   "id": "6ff700f8-ff98-4db2-8792-ca7955bcf527",
   "metadata": {},
   "outputs": [
    {
     "name": "stdout",
     "output_type": "stream",
     "text": [
      "banana is present in this tuple\n",
      "banana is present in this tuple\n",
      "banana is present in this tuple\n"
     ]
    }
   ],
   "source": [
    "#Write a code to check if the element \"banana\" is in the tuple ('apple', 'orange', 'banana').\n",
    "c = ('apple', 'orange', 'banana')\n",
    "for i in c:\n",
    "    print(\"banana is present in this tuple\")"
   ]
  },
  {
   "cell_type": "code",
   "execution_count": 22,
   "id": "0e49cc9a-4f8f-4df6-892d-5eea75b195d4",
   "metadata": {},
   "outputs": [
    {
     "name": "stdout",
     "output_type": "stream",
     "text": [
      "{1, 2, 3, 4, 5}\n"
     ]
    }
   ],
   "source": [
    "#Write a code to create a set with the elements 1, 2, 3, 4, 5 and print it.\n",
    "s = {1, 2, 3, 4, 5}\n",
    "print(s)"
   ]
  },
  {
   "cell_type": "code",
   "execution_count": 50,
   "id": "45541c26-4b01-45b2-9e2a-82bc14c8b6c0",
   "metadata": {},
   "outputs": [],
   "source": [
    "#Write a code to add the element 6 to the set {1, 2, 3, 4}.\n",
    "set = {1, 2, 3, 4}\n",
    "set.add(6)"
   ]
  },
  {
   "cell_type": "code",
   "execution_count": 48,
   "id": "50b29664-5cc6-4215-b6bb-9edf109111da",
   "metadata": {},
   "outputs": [
    {
     "data": {
      "text/plain": [
       "{1, 2, 3, 4, 6}"
      ]
     },
     "execution_count": 48,
     "metadata": {},
     "output_type": "execute_result"
    }
   ],
   "source": [
    "set"
   ]
  },
  {
   "cell_type": "code",
   "execution_count": 24,
   "id": "1c14334f-6a0f-461c-a54c-7fe2ab96e2b7",
   "metadata": {},
   "outputs": [
    {
     "data": {
      "text/plain": [
       "'apple'"
      ]
     },
     "execution_count": 24,
     "metadata": {},
     "output_type": "execute_result"
    }
   ],
   "source": [
    "# Write a code to access the first element of the tuple ('apple', 'banana', 'cherry').\n",
    "a = (\"apple\", \"banana\", \"cherry\")\n",
    "a[0]"
   ]
  },
  {
   "cell_type": "code",
   "execution_count": 26,
   "id": "5ec4acb3-4351-4579-be5a-d87384042a24",
   "metadata": {},
   "outputs": [
    {
     "data": {
      "text/plain": [
       "3"
      ]
     },
     "execution_count": 26,
     "metadata": {},
     "output_type": "execute_result"
    }
   ],
   "source": [
    "# Write a code to count how many times the number 2 appears in the tuple (1, 2, 3, 2, 4, 2).\n",
    "b = (1, 2, 3, 2, 4, 2)\n",
    "b.count(2)"
   ]
  },
  {
   "cell_type": "code",
   "execution_count": 28,
   "id": "3d217d66-4ebc-4148-b818-390c17beae3e",
   "metadata": {},
   "outputs": [
    {
     "data": {
      "text/plain": [
       "1"
      ]
     },
     "execution_count": 28,
     "metadata": {},
     "output_type": "execute_result"
    }
   ],
   "source": [
    "#Write a code to find the index of the element \"cat\" in the tuple ('dog', 'cat', 'rabbit').\n",
    "tuple = (\"dog\", \"cat\", \"rabbit\")\n",
    "tuple.index('cat')\n",
    "\n",
    "\n"
   ]
  },
  {
   "cell_type": "code",
   "execution_count": 30,
   "id": "4db2b133-c5ee-42e3-a7c0-16c5dc0990a0",
   "metadata": {},
   "outputs": [
    {
     "name": "stdout",
     "output_type": "stream",
     "text": [
      "banana is present in this tuple\n",
      "banana is present in this tuple\n",
      "banana is present in this tuple\n"
     ]
    }
   ],
   "source": [
    "#Write a code to check if the element \"banana\" is in the tuple ('apple', 'orange', 'banana').\n",
    "c = ('apple', 'orange', 'banana')\n",
    "i = \"banana\"\n",
    "for i in c:\n",
    "    print(\"banana is present in this tuple\")"
   ]
  },
  {
   "cell_type": "code",
   "execution_count": 40,
   "id": "517cc379-027f-48f4-8a65-857ff1158593",
   "metadata": {},
   "outputs": [
    {
     "name": "stdout",
     "output_type": "stream",
     "text": [
      "{1, 2, 3, 4, 5}\n"
     ]
    }
   ],
   "source": [
    "#Write a code to create a set with the elements 1, 2, 3, 4, 5 and print it.\n",
    "s = {1, 2, 3, 4, 5}\n",
    "print(s)"
   ]
  },
  {
   "cell_type": "code",
   "execution_count": 52,
   "id": "128f30b1-4ff5-4268-bcd0-20dc82362b44",
   "metadata": {},
   "outputs": [],
   "source": [
    "#Write a code to add the element 6 to the set {1, 2, 3, 4}.\n",
    "set = {1, 2, 3, 4}\n",
    "set.add(6)"
   ]
  },
  {
   "cell_type": "code",
   "execution_count": 54,
   "id": "535911ca-e12b-41ef-9aec-6fb308ce8bf0",
   "metadata": {},
   "outputs": [
    {
     "data": {
      "text/plain": [
       "{1, 2, 3, 4, 6}"
      ]
     },
     "execution_count": 54,
     "metadata": {},
     "output_type": "execute_result"
    }
   ],
   "source": [
    "set"
   ]
  }
 ],
 "metadata": {
  "kernelspec": {
   "display_name": "Python [conda env:base] *",
   "language": "python",
   "name": "conda-base-py"
  },
  "language_info": {
   "codemirror_mode": {
    "name": "ipython",
    "version": 3
   },
   "file_extension": ".py",
   "mimetype": "text/x-python",
   "name": "python",
   "nbconvert_exporter": "python",
   "pygments_lexer": "ipython3",
   "version": "3.12.7"
  }
 },
 "nbformat": 4,
 "nbformat_minor": 5
}
